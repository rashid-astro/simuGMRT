{
 "cells": [
  {
   "cell_type": "code",
   "execution_count": 1,
   "metadata": {},
   "outputs": [],
   "source": [
    "# Import required tools/tasks\n",
    "from casatools import simulator, image, table, coordsys, measures, componentlist, quanta, ctsys\n",
    "from casatasks import tclean, ft, imhead, listobs, exportfits, flagdata, bandpass, applycal\n",
    "from casatasks.private import simutil\n",
    "\n",
    "import os\n",
    "import pylab as pl\n",
    "import numpy as np\n",
    "from astropy.io import fits\n",
    "from astropy.wcs import WCS\n",
    "\n",
    "\n",
    "# Instantiate all the required tools\n",
    "sm = simulator()\n",
    "ia = image()\n",
    "tb = table()\n",
    "cs = coordsys()\n",
    "me = measures()\n",
    "qa = quanta()\n",
    "cl = componentlist()\n",
    "mysu = simutil.simutil()\n",
    "\n",
    "#definiing the data area\n",
    "mydata='./'"
   ]
  },
  {
   "cell_type": "code",
   "execution_count": 2,
   "metadata": {},
   "outputs": [],
   "source": [
    "def plotData(msname=mydata+'sim-flat-sn25.ms', myplot='uv'):\n",
    "    \"\"\"\n",
    "    Options : myplot='uv'\n",
    "              myplot='data_spectrum'\n",
    "    \"\"\"\n",
    "    from matplotlib.collections import LineCollection\n",
    "    tb.open(msname)\n",
    "\n",
    "    # UV coverage plot\n",
    "    if myplot=='uv':\n",
    "        pl.figure(figsize=(4,4))\n",
    "        pl.clf()\n",
    "        uvw = tb.getcol('UVW')\n",
    "        pl.plot( uvw[0], uvw[1], '.')\n",
    "        pl.plot( -uvw[0], -uvw[1], '.')\n",
    "        pl.title('UV Coverage')\n",
    "    \n",
    "    # Spectrum of chosen column. Make a linecollection out of each row in the MS.\n",
    "    if myplot=='data_spectrum' or myplot=='corr_spectrum' or myplot=='resdata_spectrum'  or myplot=='rescorr_spectrum' or myplot=='model_spectrum':\n",
    "        dats=None\n",
    "        if myplot=='data_spectrum':\n",
    "            dats = tb.getcol('DATA')\n",
    "        if myplot=='corr_spectrum':\n",
    "            dats = tb.getcol('CORRECTED_DATA')\n",
    "        if myplot=='resdata_spectrum':\n",
    "            dats = tb.getcol('DATA') - tb.getcol('MODEL_DATA') \n",
    "        if myplot=='rescorr_spectrum':\n",
    "            dats = tb.getcol('CORRECTED_DATA') - tb.getcol('MODEL_DATA') \n",
    "        if myplot=='model_spectrum':\n",
    "            dats = tb.getcol('MODEL_DATA')\n",
    "            \n",
    "        xs = np.zeros((dats.shape[2],dats.shape[1]),'int')\n",
    "        for chan in range(0,dats.shape[1]):\n",
    "            xs[:,chan] = chan\n",
    "    \n",
    "        npl = dats.shape[0]\n",
    "        fig, ax = pl.subplots(1,npl,figsize=(10,4))\n",
    "        \n",
    "        for pol in range(0,dats.shape[0]):\n",
    "            x = xs\n",
    "            y = np.abs(dats[pol,:,:]).T\n",
    "            data = np.stack(( x,y ), axis=2)\n",
    "            ax[pol].add_collection(LineCollection(data))\n",
    "            ax[pol].set_title(myplot + ' \\n pol '+str(pol))\n",
    "            ax[pol].set_xlim(x.min(), x.max())\n",
    "            ax[pol].set_ylim(y.min(), y.max())\n",
    "        pl.show()\n"
   ]
  },
  {
   "cell_type": "code",
   "execution_count": 3,
   "metadata": {},
   "outputs": [],
   "source": [
    "# Display an image using AstroPy, with coordinate system rendering.\n",
    "def dispAstropy(imname=mydata+'sim-flat-sn25.im'):\n",
    "        exportfits(imagename=imname, fitsimage=imname+'.fits', overwrite=True)\n",
    "        hdu = fits.open(imname+'.fits')[0]\n",
    "        wcs = WCS(hdu.header,naxis=2)\n",
    "        fig = pl.figure()\n",
    "        fig.add_subplot(121, projection=wcs)\n",
    "        pl.imshow(hdu.data[0,0,:,:], origin='lower', cmap=pl.cm.viridis)\n",
    "        pl.xlabel('RA')\n",
    "        pl.ylabel('Dec')\n",
    "\n",
    "\n",
    "# Display an image cube or a single plane image.\n",
    "# For a Cube, show the image at chan 0 and a spectrum at the location of the peak in chan0.\n",
    "# For a Single plane image, show the image.\n",
    "def dispImage(imname=mydata+'sim-flat-sn25.im', useAstropy=False):\n",
    "    ia.open(imname)\n",
    "    pix = ia.getchunk()\n",
    "    shp = ia.shape()\n",
    "    ia.close()\n",
    "    pl.figure(figsize=(10,4))\n",
    "    pl.clf()\n",
    "    if shp[3]>1:\n",
    "        pl.subplot(121)\n",
    "    if useAstropy==False:\n",
    "        pl.imshow(pix[:,:,0,0]) \n",
    "        pl.title('Image from channel 0')\n",
    "    else:\n",
    "        dispAstropy(imname)\n",
    "    if shp[3]>1:\n",
    "        pl.subplot(122)\n",
    "        ploc = np.where( pix == pix.max() )\n",
    "        pl.plot(pix[ploc[0][0], ploc[1][0],0,:])\n",
    "        pl.title('Spectrum at source peak')\n",
    "        pl.xlabel('Channel')\n",
    "        "
   ]
  },
  {
   "cell_type": "code",
   "execution_count": 5,
   "metadata": {},
   "outputs": [],
   "source": [
    "def makeMSFrame(msname =mydata+'sim-flat-sn25.ms'):\n",
    "    \"\"\" \n",
    "    Construct an empty Measurement Set that has the desired observation setup. \n",
    "    \"\"\"\n",
    "        \n",
    "    os.system('rm -rf '+msname)\n",
    "        \n",
    "    ## Open the simulator\n",
    "    sm.open(ms=msname);\n",
    "\n",
    "    ## Read/create an antenna configuration. \n",
    "   \n",
    "    antennalist = os.path.join( mydata ,\"gmrt.cfg\")\n",
    "\n",
    "    (x,y,z,d,an,an2,telname, obspos) = mysu.readantenna(antennalist)\n",
    "\n",
    "    ## Set the antenna configuration\n",
    "    sm.setconfig(telescopename=telname,\n",
    "                     x=x,\n",
    "                     y=y,\n",
    "                     z=z,\n",
    "                     dishdiameter=d,\n",
    "                     mount=['alt-az'], \n",
    "                     antname=an,\n",
    "                     coordsystem='local',\n",
    "                     referencelocation=me.observatory(telname));\n",
    "\n",
    "    ## Set the polarization mode (this goes to the FEED subtable)\n",
    "    sm.setfeed(mode='perfect R L', pol=['']);\n",
    "\n",
    "    ## Set the spectral window and polarization (one data-description-id). \n",
    "\n",
    "    sm.setspwindow(spwname=\"UBand\",\n",
    "                   freq='300.0MHz',\n",
    "                   deltafreq='390.625kHz', #frequency resolution\n",
    "                   freqresolution='200.0MHz', #BW\n",
    "                   nchannels=512,\n",
    "                   stokes='RR LL');\n",
    "\n",
    "    ## Setup source/field information (i.e. where the observation phase center is)\n",
    "    \n",
    "    sm.setfield( sourcename=\"fake\",\n",
    "                 sourcedirection=me.direction(rf='J2000', v0='05h35m17.5s',v1='-05d23m36s'));\n",
    "\n",
    "    ## Set shadow/elevation limits (if you care). These set flags.\n",
    "    sm.setlimits(shadowlimit=0.01, elevationlimit='17deg');\n",
    "\n",
    "    ## Leave autocorrelations out of the MS.\n",
    "    sm.setauto(autocorrwt=0.0);  \n",
    "\n",
    "\n",
    "    sm.settimes(integrationtime='10s',\n",
    "                usehourangle=True,\n",
    "                referencetime=me.epoch('UTC','2017/01/09/12:27:23'));\n",
    "\n",
    "\n",
    "    sm.observe(sourcename=\"fake\",\n",
    "               spwname='UBand', \n",
    "               starttime='0.0h', #taking start time from negetive causes flip in uv plot\n",
    "               stoptime='+6.0h');\n",
    "\n",
    "    ## Close the simulator\n",
    "    sm.close()\n",
    "    \n",
    "\n",
    "    flagdata(vis=msname,mode='unflag')                                                  "
   ]
  },
  {
   "cell_type": "code",
   "execution_count": 6,
   "metadata": {},
   "outputs": [],
   "source": [
    "makeMSFrame()"
   ]
  },
  {
   "cell_type": "code",
   "execution_count": 7,
   "metadata": {},
   "outputs": [
    {
     "data": {
      "image/png": "[encoded data removed]",
      "text/plain": [
       "<Figure size 288x288 with 1 Axes>"
      ]
     },
     "metadata": {
      "needs_background": "light"
     },
     "output_type": "display_data"
    }
   ],
   "source": [
    "plotData(myplot='uv')"
   ]
  },
  {
   "cell_type": "code",
   "execution_count": 8,
   "metadata": {},
   "outputs": [
    {
     "name": "stdout",
     "output_type": "stream",
     "text": [
      "================================================================================\n",
      "           MeasurementSet Name:  /disk/Rashid/sim-band3/sim-fs-b3/sim-flat-sp/sim-flat-sn25/sim-flat-sn25.ms      MS Version 2\n",
      "================================================================================\n",
      "   Observer: CASA simulator     Project: CASA simulation  \n",
      "Observation: GMRT(30 antennas)\n",
      "Data records: 939600       Total elapsed time = 21600 seconds\n",
      "   Observed from   09-Jan-2017/16:22:53.0   to   09-Jan-2017/22:22:53.0 (UTC)\n",
      "\n",
      "Fields: 1\n",
      "  ID   Code Name                RA               Decl           Epoch   SrcId      nRows\n",
      "  0         fake                05:35:17.500000 -05.23.36.00000 J2000   0         939600\n",
      "Spectral Windows:  (1 unique spectral windows and 1 unique polarization setups)\n",
      "  SpwID  Name   #Chans   Frame   Ch0(MHz)  ChanWid(kHz)  TotBW(kHz) CtrFreq(MHz)  Corrs  \n",
      "  0      UBand    512   TOPO     300.000       390.625    200000.0    399.8047   RR  LL\n",
      "Antennas: 30 'name'='station' \n",
      "   ID=   0-5: 'C00'='P', 'C01'='P', 'C02'='P', 'C03'='P', 'C04'='P', 'C05'='P', \n",
      "   ID=  6-11: 'C06'='P', 'C08'='P', 'C09'='P', 'C10'='P', 'C11'='P', 'C12'='P', \n",
      "   ID= 12-17: 'C13'='P', 'C14'='P', 'E02'='P', 'E03'='P', 'E04'='P', 'E05'='P', \n",
      "   ID= 18-23: 'E06'='P', 'S01'='P', 'S02'='P', 'S03'='P', 'S04'='P', 'S06'='P', \n",
      "   ID= 24-29: 'W01'='P', 'W02'='P', 'W03'='P', 'W04'='P', 'W05'='P', 'W06'='P'\n"
     ]
    }
   ],
   "source": [
    "listobs(vis=mydata+'sim-flat-sn25.ms', listfile='obslist.txt', verbose=False, overwrite=True)\n",
    "## print(os.popen('obslist.txt').read()) # ?permission denied?\n",
    "fp = open('obslist.txt')\n",
    "for aline in fp.readlines():\n",
    "    print(aline.replace('\\n',''))\n",
    "fp.close()"
   ]
  },
  {
   "cell_type": "code",
   "execution_count": 9,
   "metadata": {},
   "outputs": [],
   "source": [
    "def makeCompList(clname_true=mydata+'sim-flat-sn25.cl'):\n",
    "    os.system('rm -rf '+clname_true)\n",
    "    cl.done()\n",
    "    cl.addcomponent(dir='J2000 5h35m17.5s -5d23m36s', \n",
    "                        flux=0.00025,           \n",
    "                        fluxunit='Jy', \n",
    "                        freq='400.0MHz', \n",
    "                        shape='point',       \n",
    "                        spectrumtype=\"spectral index\",\n",
    "                        index=0.0)\n",
    "\n",
    "    \n",
    "    # Save the file\n",
    "    cl.rename(filename=clname_true)\n",
    "    cl.done()"
   ]
  },
  {
   "cell_type": "code",
   "execution_count": 10,
   "metadata": {},
   "outputs": [],
   "source": [
    "def makeEmptyImage(imname_true=mydata+'sim-flat-sn25.im'):\n",
    "    ## Define the center of the image\n",
    "    radir = '05h35m17.5s'\n",
    "    decdir = '-5d23m36s'\n",
    "    \n",
    "    ## Make the image from a shape\n",
    "    ia.close()\n",
    "    ia.fromshape(imname_true,[512,512,1,512],overwrite=True)\n",
    "    \n",
    "    ## Make a coordinate system\n",
    "    cs=ia.coordsys()\n",
    "    cs.setunits(['rad','rad','','Hz'])\n",
    "    cell_rad=qa.convert(qa.quantity('0.4arcsec'),\"rad\")['value']\n",
    "    cs.setincrement([-cell_rad,cell_rad],'direction')\n",
    "    cs.setreferencevalue([qa.convert(radir,'rad')['value'],qa.convert(decdir,'rad')['value']],type=\"direction\")\n",
    "    cs.setreferencevalue('300.0MHz','spectral')\n",
    "    cs.setreferencepixel([0],'spectral')\n",
    "    cs.setincrement('390.625kHz','spectral')\n",
    "    \n",
    "    ## Set the coordinate system in the image\n",
    "    ia.setcoordsys(cs.torecord())\n",
    "    ia.setbrightnessunit(\"Jy/pixel\")\n",
    "    ia.set(0.0)\n",
    "    ia.close() "
   ]
  },
  {
   "cell_type": "code",
   "execution_count": 11,
   "metadata": {},
   "outputs": [],
   "source": [
    "def evalCompList(clname=mydata+'sim-flat-sn25.cl', imname=mydata+'sim-flat-sn25.im'):\n",
    "    ##  Evaluate a component list\n",
    "    cl.open(clname)\n",
    "    ia.open(imname)\n",
    "    ia.modify(cl.torecord(),subtract=False)\n",
    "    ia.close()\n",
    "    cl.done()"
   ]
  },
  {
   "cell_type": "code",
   "execution_count": 12,
   "metadata": {},
   "outputs": [
    {
     "data": {
      "image/png": "[encoded data removed]",
      "text/plain": [
       "<Figure size 720x288 with 2 Axes>"
      ]
     },
     "metadata": {
      "needs_background": "light"
     },
     "output_type": "display_data"
    }
   ],
   "source": [
    "## Make the component list\n",
    "makeCompList()\n",
    "\n",
    "## Make an empty CASA image\n",
    "makeEmptyImage()\n",
    "\n",
    "\n",
    "evalCompList()\n",
    "\n",
    "dispImage()\n",
    "#dispAstropy()"
   ]
  },
  {
   "cell_type": "code",
   "execution_count": 4,
   "metadata": {},
   "outputs": [],
   "source": [
    "## Use an input model sky image - widefield gridders\n",
    "def predictImager(msname=mydata+'sim-flat-sn25.ms',\n",
    "                  imname_true=mydata+'sim-flat-sn25.im',\n",
    "                  gridder='widefield'):#'standard'):\n",
    "    \n",
    "    os.system('rm -rf sim_predict.*')\n",
    "    \n",
    " \n",
    "    tclean(vis=msname,\n",
    "       startmodel=imname_true,\n",
    "       imagename=mydata+'sim_predict',\n",
    "       savemodel='modelcolumn',\n",
    "       imsize=512,\n",
    "       cell='0.4arcsec',\n",
    "       specmode='cube',\n",
    "       interpolation='nearest',\n",
    "       start='300.0MHz',\n",
    "       width='390.665kHz',\n",
    "       nchan=512,\n",
    "       reffreq='399.8047MHz',\n",
    "       gridder=gridder,\n",
    "       normtype='flatsky', \n",
    "       cfcache='sim_predict.cfcache',\n",
    "       wbawp=True,      \n",
    "       pblimit=0.05,    \n",
    "       conjbeams=False, \n",
    "       calcres=False, \n",
    "       calcpsf=True, \n",
    "       niter=0, \n",
    "       wprojplanes=-1)"
   ]
  },
  {
   "cell_type": "code",
   "execution_count": 5,
   "metadata": {},
   "outputs": [],
   "source": [
    "### Copy visibilities from the MODEL column to the data columns\n",
    "### This is required when predicting using tclean or ft as they will only write to the MODEL column\n",
    "def copyModelToData(msname=mydata+'sim-flat-sn25.ms'):\n",
    "    tb.open(msname,nomodify=False);\n",
    "    moddata = tb.getcol(columnname='MODEL_DATA');\n",
    "    tb.putcol(columnname='DATA',value=moddata);\n",
    "\n",
    "    moddata.fill(0.0);\n",
    "    tb.putcol(columnname='MODEL_DATA',value=moddata);\n",
    "    tb.close();"
   ]
  },
  {
   "cell_type": "code",
   "execution_count": 6,
   "metadata": {},
   "outputs": [],
   "source": [
    "predictImager()"
   ]
  },
  {
   "cell_type": "code",
   "execution_count": 7,
   "metadata": {},
   "outputs": [],
   "source": [
    "copyModelToData()"
   ]
  },
  {
   "cell_type": "code",
   "execution_count": 8,
   "metadata": {},
   "outputs": [
    {
     "data": {
      "image/png": "[encoded data removed]",
      "text/plain": [
       "<Figure size 720x288 with 2 Axes>"
      ]
     },
     "metadata": {
      "needs_background": "light"
     },
     "output_type": "display_data"
    }
   ],
   "source": [
    "plotData(myplot='data_spectrum')"
   ]
  },
  {
   "cell_type": "code",
   "execution_count": 9,
   "metadata": {},
   "outputs": [],
   "source": [
    "## Add Gaussian random noise \n",
    "def addNoiseSim(msname=mydata+'sim-flat-sn25.ms'):\n",
    "    sm.openfromms(msname);\n",
    "    sm.setseed(50)\n",
    "    sm.setnoise(mode='simplenoise',simplenoise='0.25Jy');\n",
    "    sm.corrupt();   \n",
    "    sm.close();"
   ]
  },
  {
   "cell_type": "code",
   "execution_count": 10,
   "metadata": {},
   "outputs": [],
   "source": [
    "addNoiseSim()"
   ]
  },
  {
   "cell_type": "code",
   "execution_count": null,
   "metadata": {},
   "outputs": [],
   "source": []
  }
 ],
 "metadata": {
  "kernelspec": {
   "display_name": "Python 3",
   "language": "python",
   "name": "python3"
  },
  "language_info": {
   "codemirror_mode": {
    "name": "ipython",
    "version": 3
   },
   "file_extension": ".py",
   "mimetype": "text/x-python",
   "name": "python",
   "nbconvert_exporter": "python",
   "pygments_lexer": "ipython3",
   "version": "3.6.8"
  }
 },
 "nbformat": 4,
 "nbformat_minor": 2
}
