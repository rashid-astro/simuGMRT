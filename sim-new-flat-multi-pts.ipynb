{
 "cells": [
  {
   "cell_type": "code",
   "execution_count": 6,
   "metadata": {},
   "outputs": [],
   "source": [
    "# Import required tools/tasks\n",
    "from casatools import simulator, image, table, coordsys, measures, componentlist, quanta, ctsys\n",
    "from casatasks import tclean, ft, imhead, listobs, exportfits, flagdata, bandpass, applycal, imstat, imval\n",
    "from casatasks.private import simutil\n",
    "\n",
    "import os\n",
    "import pylab as pl\n",
    "import numpy as np\n",
    "from astropy.io import fits\n",
    "from astropy.wcs import WCS\n",
    "\n",
    "\n",
    "# Instantiate all the required tools\n",
    "sm = simulator()\n",
    "ia = image()\n",
    "tb = table()\n",
    "cs = coordsys()\n",
    "me = measures()\n",
    "qa = quanta()\n",
    "cl = componentlist()\n",
    "mysu = simutil.simutil()\n",
    "\n",
    "#definiing the data area\n",
    "mydata='./'\n",
    "ms_name='sim-flat-dnds-multi-pts.ms'"
   ]
  },
  {
   "cell_type": "code",
   "execution_count": 5,
   "metadata": {},
   "outputs": [],
   "source": [
    "def plotData(msname=mydata+ms_name, myplot='uv'):\n",
    "    \"\"\"\n",
    "    Options : myplot='uv'\n",
    "              myplot='data_spectrum'\n",
    "    \"\"\"\n",
    "    from matplotlib.collections import LineCollection\n",
    "    tb.open(msname)\n",
    "\n",
    "    # UV coverage plot\n",
    "    if myplot=='uv':\n",
    "        pl.figure(figsize=(4,4))\n",
    "        pl.clf()\n",
    "        uvw = tb.getcol('UVW')\n",
    "        pl.plot( uvw[0], uvw[1], '.')\n",
    "        pl.plot( -uvw[0], -uvw[1], '.')\n",
    "        pl.title('UV Coverage')\n",
    "    \n",
    "    # Spectrum of chosen column. Make a linecollection out of each row in the MS.\n",
    "    if myplot=='data_spectrum' or myplot=='corr_spectrum' or myplot=='resdata_spectrum'  or myplot=='rescorr_spectrum' or myplot=='model_spectrum':\n",
    "        dats=None\n",
    "        if myplot=='data_spectrum':\n",
    "            dats = tb.getcol('DATA')\n",
    "        if myplot=='corr_spectrum':\n",
    "            dats = tb.getcol('CORRECTED_DATA')\n",
    "        if myplot=='resdata_spectrum':\n",
    "            dats = tb.getcol('DATA') - tb.getcol('MODEL_DATA') \n",
    "        if myplot=='rescorr_spectrum':\n",
    "            dats = tb.getcol('CORRECTED_DATA') - tb.getcol('MODEL_DATA') \n",
    "        if myplot=='model_spectrum':\n",
    "            dats = tb.getcol('MODEL_DATA')\n",
    "            \n",
    "        xs = np.zeros((dats.shape[2],dats.shape[1]),'int')\n",
    "        for chan in range(0,dats.shape[1]):\n",
    "            xs[:,chan] = chan\n",
    "    \n",
    "        npl = dats.shape[0]\n",
    "        fig, ax = pl.subplots(1,npl,figsize=(10,4))\n",
    "        \n",
    "        for pol in range(0,dats.shape[0]):\n",
    "            x = xs\n",
    "            y = np.abs(dats[pol,:,:]).T\n",
    "            data = np.stack(( x,y ), axis=2)\n",
    "            ax[pol].add_collection(LineCollection(data))\n",
    "            ax[pol].set_title(myplot + ' \\n pol '+str(pol))\n",
    "            ax[pol].set_xlim(x.min(), x.max())\n",
    "            ax[pol].set_ylim(y.min(), y.max())\n",
    "        pl.show()\n"
   ]
  },
  {
   "cell_type": "code",
   "execution_count": 6,
   "metadata": {},
   "outputs": [],
   "source": [
    "model_im='sim-flat-dnds-multi-pts'\n",
    "# Display an image using AstroPy, with coordinate system rendering.\n",
    "def dispAstropy(imname=mydata+model_im):\n",
    "        exportfits(imagename=imname, fitsimage=imname+'.fits', overwrite=True)\n",
    "        hdu = fits.open(imname+'.fits')[0]\n",
    "        wcs = WCS(hdu.header,naxis=2)\n",
    "        fig = pl.figure()\n",
    "        fig.add_subplot(121, projection=wcs)\n",
    "        pl.imshow(hdu.data[0,0,:,:], origin='lower', cmap=pl.cm.viridis)\n",
    "        pl.xlabel('RA')\n",
    "        pl.ylabel('Dec')\n",
    "\n",
    "\n",
    "# Display an image cube or a single plane image.\n",
    "# For a Cube, show the image at chan 0 and a spectrum at the location of the peak in chan0.\n",
    "# For a Single plane image, show the image.\n",
    "def dispImage(imname=mydata+model_im, useAstropy=False):\n",
    "    ia.open(imname)\n",
    "    pix = ia.getchunk()\n",
    "    shp = ia.shape()\n",
    "    ia.close()\n",
    "    pl.figure(figsize=(10,4))\n",
    "    pl.clf()\n",
    "    if shp[3]>1:\n",
    "        pl.subplot(121)\n",
    "    if useAstropy==False:\n",
    "        pl.imshow(pix[:,:,0,0]) \n",
    "        pl.title('Image from channel 0')\n",
    "    else:\n",
    "        dispAstropy(imname)\n",
    "    if shp[3]>1:\n",
    "        pl.subplot(122)\n",
    "        ploc = np.where( pix == pix.max() )\n",
    "        pl.plot(pix[ploc[0][0], ploc[1][0],0,:])\n",
    "        pl.title('Spectrum at source peak')\n",
    "        pl.xlabel('Channel')\n",
    "        "
   ]
  },
  {
   "cell_type": "code",
   "execution_count": 42,
   "metadata": {},
   "outputs": [],
   "source": [
    "def makeMSFrame(msname =mydata+ms_name):\n",
    "    \"\"\" \n",
    "    Construct an empty Measurement Set that has the desired observation setup. \n",
    "    \"\"\"\n",
    "        \n",
    "    os.system('rm -rf '+msname)\n",
    "        \n",
    "    ## Open the simulator\n",
    "    sm.open(ms=msname);\n",
    "\n",
    "    ## Read/create an antenna configuration. \n",
    "   \n",
    "    antennalist = os.path.join( mydata ,\"gmrt.cfg\")\n",
    "\n",
    "    (x,y,z,d,an,an2,telname, obspos) = mysu.readantenna(antennalist)\n",
    "\n",
    "    ## Set the antenna configuration\n",
    "    sm.setconfig(telescopename=telname,\n",
    "                     x=x,\n",
    "                     y=y,\n",
    "                     z=z,\n",
    "                     dishdiameter=d,\n",
    "                     mount=['alt-az'], \n",
    "                     antname=an,\n",
    "                     coordsystem='local',\n",
    "                     referencelocation=me.observatory(telname));\n",
    "\n",
    "    ## Set the polarization mode (this goes to the FEED subtable)\n",
    "    sm.setfeed(mode='perfect R L', pol=['']);\n",
    "\n",
    "    ## Set the spectral window and polarization (one data-description-id). \n",
    "\n",
    "    sm.setspwindow(spwname=\"UBand\",\n",
    "                   freq='300.0MHz',\n",
    "                   deltafreq='390.625kHz', #R-- stands for frequency resolution\n",
    "                   freqresolution='200.0MHz', #R-- stands for BW\n",
    "                   nchannels=512,\n",
    "                   stokes='RR LL');\n",
    "\n",
    "    ## Setup source/field information (i.e. where the observation phase center is)\n",
    "    \n",
    "    sm.setfield( sourcename=\"fake\",\n",
    "                 sourcedirection=me.direction(rf='J2000', v0='05h35m17.5s',v1='-05d23m36s'));\n",
    "\n",
    "    ## Set shadow/elevation limits (if you care). These set flags.\n",
    "    sm.setlimits(shadowlimit=0.01, elevationlimit='17deg');\n",
    "\n",
    "    ## Leave autocorrelations out of the MS.\n",
    "    sm.setauto(autocorrwt=0.0);  \n",
    "\n",
    "\n",
    "    sm.settimes(integrationtime='10s',\n",
    "                usehourangle=True,\n",
    "                referencetime=me.epoch('UTC','2017/01/09/12:27:23'));\n",
    "\n",
    "\n",
    "    sm.observe(sourcename=\"fake\",\n",
    "               spwname='UBand', \n",
    "               starttime='0.0h', #R-- taking start time from negetive causes flip in uv plot\n",
    "               stoptime='+6.0h');\n",
    "\n",
    "    ## Close the simulator\n",
    "    sm.close()\n",
    "    \n",
    "\n",
    "    flagdata(vis=msname,mode='unflag')                                                  "
   ]
  },
  {
   "cell_type": "code",
   "execution_count": 43,
   "metadata": {},
   "outputs": [],
   "source": [
    "makeMSFrame()"
   ]
  },
  {
   "cell_type": "code",
   "execution_count": 12,
   "metadata": {},
   "outputs": [
    {
     "data": {
      "image/png": "[encoded data removed]",
      "text/plain": [
       "<Figure size 288x288 with 1 Axes>"
      ]
     },
     "metadata": {
      "needs_background": "light"
     },
     "output_type": "display_data"
    }
   ],
   "source": [
    "plotData(myplot='uv')"
   ]
  },
  {
   "cell_type": "code",
   "execution_count": 21,
   "metadata": {},
   "outputs": [
    {
     "name": "stdout",
     "output_type": "stream",
     "text": [
      "================================================================================\n",
      "           MeasurementSet Name:  /disk/Rashid/sim-band3/sim-fs-b3/sim-multi-pts/sim-flat-multi-pts.ms      MS Version 2\n",
      "================================================================================\n",
      "   Observer: CASA simulator     Project: CASA simulation  \n",
      "Observation: GMRT(30 antennas)\n",
      "Data records: 939600       Total elapsed time = 21600 seconds\n",
      "   Observed from   09-Jan-2017/16:22:53.0   to   09-Jan-2017/22:22:53.0 (UTC)\n",
      "\n",
      "Fields: 1\n",
      "  ID   Code Name                RA               Decl           Epoch   SrcId      nRows\n",
      "  0         fake                05:35:17.500000 -05.23.36.00000 J2000   0         939600\n",
      "Spectral Windows:  (1 unique spectral windows and 1 unique polarization setups)\n",
      "  SpwID  Name   #Chans   Frame   Ch0(MHz)  ChanWid(kHz)  TotBW(kHz) CtrFreq(MHz)  Corrs  \n",
      "  0      UBand    512   TOPO     300.000       390.625    200000.0    399.8047   RR  LL\n",
      "Antennas: 30 'name'='station' \n",
      "   ID=   0-5: 'C00'='P', 'C01'='P', 'C02'='P', 'C03'='P', 'C04'='P', 'C05'='P', \n",
      "   ID=  6-11: 'C06'='P', 'C08'='P', 'C09'='P', 'C10'='P', 'C11'='P', 'C12'='P', \n",
      "   ID= 12-17: 'C13'='P', 'C14'='P', 'E02'='P', 'E03'='P', 'E04'='P', 'E05'='P', \n",
      "   ID= 18-23: 'E06'='P', 'S01'='P', 'S02'='P', 'S03'='P', 'S04'='P', 'S06'='P', \n",
      "   ID= 24-29: 'W01'='P', 'W02'='P', 'W03'='P', 'W04'='P', 'W05'='P', 'W06'='P'\n"
     ]
    }
   ],
   "source": [
    "listobs(vis=mydata+'sim-flat-multi-pts.ms', listfile='obslist.txt', verbose=False, overwrite=True)\n",
    "## print(os.popen('obslist.txt').read()) # ?permission denied?\n",
    "fp = open('obslist.txt')\n",
    "for aline in fp.readlines():\n",
    "    print(aline.replace('\\n',''))\n",
    "fp.close()"
   ]
  },
  {
   "cell_type": "code",
   "execution_count": 8,
   "metadata": {},
   "outputs": [],
   "source": [
    "def makeEmptyImage(imname_true=mydata+model_im):\n",
    "    ## Define the center of the image\n",
    "    radir = '05h35m17.5s'\n",
    "    decdir = '-5d23m36s'\n",
    "    \n",
    "    ## Make the image from a shape\n",
    "    ia.close()\n",
    "    ia.fromshape(imname_true,[4096,4096,1,512],overwrite=True)\n",
    "    \n",
    "    ## Make a coordinate system\n",
    "    cs=ia.coordsys()\n",
    "    cs.setunits(['rad','rad','','Hz'])\n",
    "    cell_rad=qa.convert(qa.quantity('0.4arcsec'),\"rad\")['value']\n",
    "    cs.setincrement([-cell_rad,cell_rad],'direction')\n",
    "    cs.setreferencevalue([qa.convert(radir,'rad')['value'],qa.convert(decdir,'rad')['value']],type=\"direction\")\n",
    "    cs.setreferencevalue('300.0MHz','spectral')\n",
    "    cs.setreferencepixel([0],'spectral')\n",
    "    cs.setincrement('390.625kHz','spectral')\n",
    "    \n",
    "    ## Set the coordinate system in the image\n",
    "    ia.setcoordsys(cs.torecord())\n",
    "    ia.setbrightnessunit(\"Jy/pixel\")\n",
    "    ia.set(0.0)\n",
    "    ia.close() "
   ]
  },
  {
   "cell_type": "code",
   "execution_count": 9,
   "metadata": {},
   "outputs": [],
   "source": [
    "def makeCompList(clname_true, d, f):\n",
    "    os.system('rm -rf '+clname_true)\n",
    "    cl.done()\n",
    "    cl.addcomponent(dir=d,#'J2000 5h35m17.5s -5d23m36s', \n",
    "                        flux=f,#0.00025,           \n",
    "                        fluxunit='Jy', \n",
    "                        freq='400.0MHz', \n",
    "                        shape='point',       \n",
    "                        spectrumtype=\"spectral index\",\n",
    "                        index=0.0)\n",
    "\n",
    "    \n",
    "    # Save the file\n",
    "    cl.rename(filename=clname_true)\n",
    "    cl.done()"
   ]
  },
  {
   "cell_type": "code",
   "execution_count": 10,
   "metadata": {},
   "outputs": [],
   "source": [
    "def evalCompList(clname, imname=mydata+model_im):\n",
    "    ##  Evaluate a component list\n",
    "    cl.open(clname)\n",
    "    ia.open(imname)\n",
    "    ia.modify(cl.torecord(),subtract=False)\n",
    "    ia.close()\n",
    "    cl.done()"
   ]
  },
  {
   "cell_type": "code",
   "execution_count": 11,
   "metadata": {},
   "outputs": [],
   "source": [
    "## Make an empty CASA image\n",
    "makeEmptyImage()"
   ]
  },
  {
   "cell_type": "code",
   "execution_count": 13,
   "metadata": {},
   "outputs": [],
   "source": [
    "import random"
   ]
  },
  {
   "cell_type": "code",
   "execution_count": 15,
   "metadata": {},
   "outputs": [
    {
     "name": "stdout",
     "output_type": "stream",
     "text": [
      "199\n",
      "[39, 33, 28, 23, 19, 16, 13, 11, 9, 8]\n",
      "[100.0, 134.9282847673563, 182.05642030260796, 245.64560522315819, 331.4454017339988, 447.213595499958, 603.4176336545162, 814.1810630738086, 1098.5605433061182, 1482.2688982138943, 2000.0000000000002]\n"
     ]
    }
   ],
   "source": [
    "p=-0.6\n",
    "smin=100\n",
    "smax=2000\n",
    "s0=200*p/((smin**p)-(smax**p))\n",
    "def NS(s1, s2):\n",
    "    N=s0*((s1**p)-(s2**p))/p\n",
    "    return N\n",
    "\n",
    "del_s=(np.log10(smax/smin))/10.\n",
    "sintv=[]\n",
    "for n in range(0,11):\n",
    "    sintv.append(10**(np.log10(smin)+n*del_s))\n",
    "N=[]\n",
    "for s in range(0, len(sintv)-1):\n",
    "    #print(sintv[s], sintv[s+1])\n",
    "    N.append(round(NS(sintv[s], sintv[s+1])))\n",
    "print(sum(N))\n",
    "print(N)\n",
    "\n",
    "print(sintv)"
   ]
  },
  {
   "cell_type": "code",
   "execution_count": 16,
   "metadata": {},
   "outputs": [
    {
     "name": "stdout",
     "output_type": "stream",
     "text": [
      "Generated random numbers: [126.99013492 115.40359831 108.85818628 100.89711391 128.92785113\n",
      " 126.30222006 104.13448777 106.10445227 130.01230322 124.08163871\n",
      " 120.16634905 108.85286744 116.23444439 128.02097312 106.1926045\n",
      " 112.99816544 103.71176393 120.59413414 104.56187596 117.13183259\n",
      " 108.68054495 126.35545055 129.3947468  129.73733682 112.52386456\n",
      " 101.27921132 129.34838812 131.09256465 100.83581785 116.47485905\n",
      " 116.05438005 104.53102207 121.63274812 116.50453295 125.61803294\n",
      " 120.96779403 133.23309316 118.16836483 128.49180298]\n",
      "Calculated mean: 117.46414238367815\n",
      "Generated random numbers: [139.20566784 182.31175681 145.60293208 160.93356873 163.21220494\n",
      " 138.45998565 146.36907363 179.72661353 169.86818494 149.77866692\n",
      " 153.47109898 137.41978212 152.80416851 162.97215089 140.94957953\n",
      " 160.67903185 172.00435013 176.13365901 166.1952316  150.62300715\n",
      " 147.17062394 183.74727026 170.11161491 154.90500693 175.35899613\n",
      " 159.30162361 152.49905917 142.94755443 151.0091899  145.2434392\n",
      " 151.9400799  163.70814609 183.58431438]\n",
      "Calculated mean: 158.49235253498213\n",
      "Generated random numbers: [243.732905   239.65361304 194.35454354 183.79552378 234.34830087\n",
      " 189.48426236 189.56935039 231.54093379 244.3324513  185.10513373\n",
      " 242.7793846  189.95081494 242.31891719 209.55253965 218.78046861\n",
      " 237.49059951 210.00112796 225.82726687 192.4565728  205.69242309\n",
      " 196.91765057 188.57944592 194.93259897 203.8598292  207.39296214\n",
      " 212.33604933 240.99375342 232.04893477]\n",
      "Calculated mean: 213.85101276288307\n",
      "Generated random numbers: [306.28888629 285.12301918 282.52560454 263.80374658 274.93649991\n",
      " 259.04274773 256.32347829 289.07830381 245.03298805 302.44544162\n",
      " 270.34741072 314.36359691 299.12289116 264.0085429  319.18104435\n",
      " 310.77976098 314.15290189 314.65704744 309.96196724 318.84819044\n",
      " 272.58267024 293.35789506 270.58194468]\n",
      "Calculated mean: 288.5455034785785\n",
      "Generated random numbers: [369.88231736 366.82696816 418.74701279 354.181953   354.80310458\n",
      " 374.40192509 396.72139124 376.52139164 427.91859728 379.14554178\n",
      " 394.78994859 368.20393649 372.78036414 453.07482034 385.85982683\n",
      " 344.64630902 394.46152744 438.45161313 425.84192483]\n",
      "Calculated mean: 389.3294986169784\n",
      "Generated random numbers: [506.71724656 583.36051977 488.50428449 520.4793847  449.22725899\n",
      " 596.37453324 497.22717333 602.17057919 573.51112265 457.71822392\n",
      " 566.16373077 520.80801183 590.03979578 496.47685859 448.10191657\n",
      " 508.16919287]\n",
      "Calculated mean: 525.315614577237\n",
      "Generated random numbers: [574.91822029 686.47030412 681.81391712 776.3966396  769.90915368\n",
      " 671.74467605 696.10426903 770.04347078 627.49131841 690.66922341\n",
      " 779.56230439 714.05144771 775.21658414]\n",
      "Calculated mean: 708.7993483641626\n",
      "Generated random numbers: [1028.72941855  804.04127391 1021.35465397 1027.24003842  892.39913321\n",
      "  978.98104536  988.2105919   831.56347338 1008.95932898 1012.89593329\n",
      "  925.70394413]\n",
      "Calculated mean: 956.3708031899635\n",
      "Generated random numbers: [1321.2579958  1356.59979264 1335.56200324 1254.65392887 1145.50201795\n",
      " 1366.27722712 1395.12271903 1368.26608773 1070.49071446]\n",
      "Calculated mean: 1290.4147207600063\n",
      "Generated random numbers: [1611.31023869 1910.79156164 1973.5045034  1743.71291157 1637.01984878\n",
      " 1651.9041462  1616.75146545 1784.08091713]\n",
      "Calculated mean: 1741.1344491069472\n"
     ]
    }
   ],
   "source": [
    "flx=[]\n",
    "for n in range(0,len(sintv)-1):\n",
    "    num_samples = N[n]\n",
    "    lower_limit = sintv[n]\n",
    "    upper_limit = sintv[n+1]\n",
    "    desired_mean = (sintv[n]+sintv[n+1])/2\n",
    "    \n",
    "# Generate random numbers with the desired mean\n",
    "    random_numbers = np.random.uniform(lower_limit, upper_limit, num_samples)\n",
    "\n",
    "# Adjust the generated numbers to have the desired mean\n",
    "    mean_adjustment = desired_mean - np.mean(random_numbers)\n",
    "    random_numbers += mean_adjustment\n",
    "    flx.extend(random_numbers)\n",
    "#    print(\"Generated random numbers:\", random_numbers)\n",
    "#    print(\"Calculated mean:\", np.mean(random_numbers))\n"
   ]
  },
  {
   "cell_type": "code",
   "execution_count": 29,
   "metadata": {},
   "outputs": [],
   "source": [
    "flux_jy.sort()"
   ]
  },
  {
   "cell_type": "code",
   "execution_count": null,
   "metadata": {
    "scrolled": false
   },
   "outputs": [],
   "source": [
    "pos=[]\n",
    "for i in range(0, 199):\n",
    "    x=random.randint(0, 4095)\n",
    "    y=random.randint(0, 4095)\n",
    "    box=box=str(x)+','+str(y)+','+str(x)+','+str(y)\n",
    "    pos.append(imstat(imagename=mydata+model_im, box=box)['blcf'][:27])\n"
   ]
  },
  {
   "cell_type": "code",
   "execution_count": null,
   "metadata": {},
   "outputs": [],
   "source": [
    "pf=list(zip(flux_jy, pos))\n"
   ]
  },
  {
   "cell_type": "code",
   "execution_count": 32,
   "metadata": {},
   "outputs": [],
   "source": [
    "for s in pf:\n",
    "    ## Make the component list\n",
    "    makeCompList(clname_true='sim-new-flat-multi-pts_'+str(pf.index(s)+1)+'.cl', d=s[1], f=s[0])\n",
    "\n",
    "    evalCompList(clname='sim-new-flat-multi-pts_'+str(pf.index(s)+1)+'.cl')\n"
   ]
  },
  {
   "cell_type": "code",
   "execution_count": 38,
   "metadata": {},
   "outputs": [],
   "source": [
    "## Use an input model sky image - widefield gridders\n",
    "def predictImager(msname=mydata+ms_name,\n",
    "                  imname_true=mydata+model_im,\n",
    "                  #'sim-flat-multi-pts.im',\n",
    "                  gridder='widefield'):#'standard'):\n",
    "    \n",
    "    os.system('rm -rf sim_predict.*')\n",
    "    \n",
    " \n",
    "    tclean(vis=msname,\n",
    "       startmodel=imname_true,\n",
    "       imagename=mydata+'sim_predict',\n",
    "       savemodel='modelcolumn',\n",
    "       imsize=4096,\n",
    "       cell='0.4arcsec',\n",
    "       specmode='cube',\n",
    "       interpolation='nearest',\n",
    "       start='300.0MHz',\n",
    "       width='390.665kHz',\n",
    "       nchan=512,\n",
    "       reffreq='399.8047MHz',\n",
    "       gridder=gridder,\n",
    "       normtype='flatsky', \n",
    "       cfcache='sim_predict.cfcache',\n",
    "       wbawp=True,      \n",
    "       pblimit=0.05,    \n",
    "       conjbeams=False, \n",
    "       calcres=False, \n",
    "       calcpsf=True, \n",
    "       niter=0, \n",
    "       wprojplanes=-1)"
   ]
  },
  {
   "cell_type": "code",
   "execution_count": 39,
   "metadata": {},
   "outputs": [],
   "source": [
    "### Copy visibilities from the MODEL column to the data columns\n",
    "### This is required when predicting using tclean or ft as they will only write to the MODEL column\n",
    "def copyModelToData(msname=mydata+ms_name):\n",
    "    tb.open(msname,nomodify=False);\n",
    "    moddata = tb.getcol(columnname='MODEL_DATA');\n",
    "    tb.putcol(columnname='DATA',value=moddata);\n",
    "\n",
    "    moddata.fill(0.0);\n",
    "    tb.putcol(columnname='MODEL_DATA',value=moddata);\n",
    "    tb.close();"
   ]
  },
  {
   "cell_type": "code",
   "execution_count": 44,
   "metadata": {},
   "outputs": [],
   "source": [
    "predictImager()"
   ]
  },
  {
   "cell_type": "code",
   "execution_count": 45,
   "metadata": {},
   "outputs": [],
   "source": [
    "copyModelToData()"
   ]
  },
  {
   "cell_type": "code",
   "execution_count": 46,
   "metadata": {},
   "outputs": [
    {
     "data": {
      "image/png": "[encoded data removed]",
      "text/plain": [
       "<Figure size 720x288 with 2 Axes>"
      ]
     },
     "metadata": {
      "needs_background": "light"
     },
     "output_type": "display_data"
    }
   ],
   "source": [
    "plotData(myplot='data_spectrum')"
   ]
  },
  {
   "cell_type": "code",
   "execution_count": 47,
   "metadata": {},
   "outputs": [],
   "source": [
    "## Add Gaussian random noise \n",
    "def addNoiseSim(msname=mydata+ms_name):\n",
    "    sm.openfromms(msname);\n",
    "    sm.setseed(50)\n",
    "    sm.setnoise(mode='simplenoise',simplenoise='0.25Jy');\n",
    "    sm.corrupt();   \n",
    "    sm.close();"
   ]
  },
  {
   "cell_type": "code",
   "execution_count": 48,
   "metadata": {},
   "outputs": [],
   "source": [
    "addNoiseSim()"
   ]
  }
 ],
 "metadata": {
  "kernelspec": {
   "display_name": "Python 3 (ipykernel)",
   "language": "python",
   "name": "python3"
  },
  "language_info": {
   "codemirror_mode": {
    "name": "ipython",
    "version": 3
   },
   "file_extension": ".py",
   "mimetype": "text/x-python",
   "name": "python",
   "nbconvert_exporter": "python",
   "pygments_lexer": "ipython3",
   "version": "3.8.10"
  }
 },
 "nbformat": 4,
 "nbformat_minor": 2
}
